{
  "metadata": {
    "language_info": {
      "codemirror_mode": {
        "name": "python",
        "version": 3
      },
      "file_extension": ".py",
      "mimetype": "text/x-python",
      "name": "python",
      "nbconvert_exporter": "python",
      "pygments_lexer": "ipython3",
      "version": "3.8"
    },
    "kernelspec": {
      "name": "python",
      "display_name": "Python (Pyodide)",
      "language": "python"
    }
  },
  "nbformat_minor": 4,
  "nbformat": 4,
  "cells": [
    {
      "cell_type": "code",
      "source": "from random import randint",
      "metadata": {
        "trusted": true
      },
      "execution_count": 3,
      "outputs": []
    },
    {
      "cell_type": "code",
      "source": "def roll():\n    \"\"\"Return random integer between 1 and 6\"\"\"\n    return randint(1,6)\n\nnum_rolls = 10_000\ntotal = 0\n\nfor trial in range(num_rolls):\n    total += roll()\n\navg_roll = total / num_rolls\nprint(f\"The average result of {num_rolls} rolls is {avg_roll}\")\n\n#gives\n#The average result of 10000 rolls is 3.4865",
      "metadata": {
        "trusted": true
      },
      "execution_count": 4,
      "outputs": [
        {
          "name": "stdout",
          "text": "The average result of 10000 rolls is 3.5074\n",
          "output_type": "stream"
        }
      ]
    }
  ]
}